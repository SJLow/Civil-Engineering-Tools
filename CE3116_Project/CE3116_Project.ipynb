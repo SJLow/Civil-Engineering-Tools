{
 "cells": [
  {
   "cell_type": "code",
   "execution_count": 77,
   "metadata": {},
   "outputs": [],
   "source": [
    "import pandas as pd\n",
    "import math\n",
    "location = \"A\" #\"A\",\"B\",\"C\" or \"filename\"\n",
    "gk = 1000\n",
    "qk = 600\n",
    "size = 0.9\n",
    "mf = 1.35\n",
    "depth = 20\n",
    "slsverified = False #False or True\n",
    "pileshape = \"square\" #\"square\" or \"circular\"\n",
    "piletype = \"driven\" #\"driven\" or \"bored\"\n",
    "unit_weight = {\"FILL\":19,\"E\":15, \"S\":21, \"PILE\":24}\n",
    "nospile = 4 #4, 6, 8, 10\n",
    "\n",
    "\n",
    "if pileshape == \"circular\":\n",
    "    area = math.pi * size ** 2 / 4\n",
    "    perimeter = math.pi * size\n",
    "\n",
    "elif pileshape == \"square\":\n",
    "    area = size ** 2\n",
    "    perimeter = 4*size"
   ]
  },
  {
   "cell_type": "code",
   "execution_count": 78,
   "metadata": {},
   "outputs": [
    {
     "name": "stdout",
     "output_type": "stream",
     "text": [
      "    top  bottom geology  spt  cu\n",
      "0   0.0     1.0    FILL    0   0\n",
      "1   1.0     3.0    FILL    0   0\n",
      "2   3.0    15.0       E    0  23\n",
      "3  15.0    17.8       E    0  27\n",
      "4  17.8    20.0       S   66   0\n",
      "5  20.0    23.0       S  100   0\n",
      "6  20.0    33.0       S  100   0\n",
      "7  33.0    36.0       S  100   0\n",
      "8  36.0    40.0       S  100   0\n"
     ]
    }
   ],
   "source": [
    "if location == \"A\":\n",
    "    DataFrame = pd.read_csv(\"AData.csv\")\n",
    "elif location == \"B\":\n",
    "    DataFrame = pd.read_csv(\"BData.csv\")\n",
    "elif location == \"C\":\n",
    "    DataFrame = pd.read_csv(\"CData.csv\")\n",
    "else:\n",
    "    DataFrame = pd.read_csv(location)\n",
    "    \n",
    "DataFrame = DataFrame.fillna(0)\n",
    "print(DataFrame)"
   ]
  },
  {
   "cell_type": "code",
   "execution_count": 79,
   "metadata": {},
   "outputs": [
    {
     "name": "stdout",
     "output_type": "stream",
     "text": [
      "    top  bottom geology  spt  cu  unit_weight\n",
      "0   0.0     1.0    FILL    0   0           19\n",
      "1   1.0     3.0    FILL    0   0           19\n",
      "2   3.0    15.0       E    0  23           15\n",
      "3  15.0    17.8       E    0  27           15\n",
      "4  17.8    20.0       S   66   0           21\n",
      "5  20.0    23.0       S  100   0           21\n",
      "6  20.0    33.0       S  100   0           21\n",
      "7  33.0    36.0       S  100   0           21\n",
      "8  36.0    40.0       S  100   0           21\n"
     ]
    }
   ],
   "source": [
    "DataFrame[\"unit_weight\"] = [unit_weight[x] for x in DataFrame[\"geology\"]]\n",
    "print(DataFrame)"
   ]
  },
  {
   "cell_type": "code",
   "execution_count": 80,
   "metadata": {},
   "outputs": [
    {
     "name": "stdout",
     "output_type": "stream",
     "text": [
      "    top  bottom geology  spt  cu  unit_weight  thickness\n",
      "0   0.0     1.0    FILL    0   0           19        1.0\n",
      "1   1.0     3.0    FILL    0   0           19        2.0\n",
      "2   3.0    15.0       E    0  23           15       12.0\n",
      "3  15.0    17.8       E    0  27           15        2.8\n",
      "4  17.8    20.0       S   66   0           21        2.2\n",
      "5  20.0    23.0       S  100   0           21        0.0\n",
      "6  20.0    33.0       S  100   0           21        0.0\n",
      "7  33.0    36.0       S  100   0           21        0.0\n",
      "8  36.0    40.0       S  100   0           21        0.0\n"
     ]
    }
   ],
   "source": [
    "def thickness(depth,top,bottom):\n",
    "    if depth >= bottom:\n",
    "        return(bottom-top)\n",
    "    elif depth > top:\n",
    "        return(depth-top)\n",
    "    else:\n",
    "        return(0)\n",
    "DataFrame[\"thickness\"] = [thickness(depth,x,y) for (x,y) in zip(DataFrame[\"top\"],DataFrame[\"bottom\"])]\n",
    "print(DataFrame)\n",
    "#print(list(map(lambda x,y: thickness(depth,x,y), DataFrame[\"top\"],DataFrame[\"bottom\"])))"
   ]
  },
  {
   "cell_type": "code",
   "execution_count": 81,
   "metadata": {},
   "outputs": [
    {
     "name": "stdout",
     "output_type": "stream",
     "text": [
      "    top  bottom geology  spt  cu  unit_weight  thickness      q\n",
      "0   0.0     1.0    FILL    0   0           19        1.0    9.5\n",
      "1   1.0     3.0    FILL    0   0           19        2.0   38.0\n",
      "2   3.0    15.0       E    0  23           15       12.0  147.0\n",
      "3  15.0    17.8       E    0  27           15        2.8  258.0\n",
      "4  17.8    20.0       S   66   0           21        2.2  302.1\n",
      "5  20.0    23.0       S  100   0           21        0.0  356.7\n",
      "6  20.0    33.0       S  100   0           21        0.0  524.7\n",
      "7  33.0    36.0       S  100   0           21        0.0  692.7\n",
      "8  36.0    40.0       S  100   0           21        0.0  766.2\n"
     ]
    }
   ],
   "source": [
    "q_increment = DataFrame[\"unit_weight\"]*(DataFrame[\"bottom\"]-DataFrame[\"top\"])\n",
    "DataFrame[\"q\"] = q_increment.cumsum() - q_increment/2\n",
    "print(DataFrame)"
   ]
  },
  {
   "cell_type": "code",
   "execution_count": 82,
   "metadata": {},
   "outputs": [
    {
     "name": "stdout",
     "output_type": "stream",
     "text": [
      "    top  bottom geology  spt  cu  unit_weight  thickness      q  self_weight\n",
      "0   0.0     1.0    FILL    0   0           19        1.0    9.5        4.050\n",
      "1   1.0     3.0    FILL    0   0           19        2.0   38.0        8.100\n",
      "2   3.0    15.0       E    0  23           15       12.0  147.0       87.480\n",
      "3  15.0    17.8       E    0  27           15        2.8  258.0       20.412\n",
      "4  17.8    20.0       S   66   0           21        2.2  302.1        5.346\n",
      "5  20.0    23.0       S  100   0           21        0.0  356.7        0.000\n",
      "6  20.0    33.0       S  100   0           21        0.0  524.7        0.000\n",
      "7  33.0    36.0       S  100   0           21        0.0  692.7        0.000\n",
      "8  36.0    40.0       S  100   0           21        0.0  766.2        0.000\n"
     ]
    }
   ],
   "source": [
    "def self_weight(unit_weight_soil, thickness):\n",
    "    self_weight = (unit_weight[\"PILE\"] - unit_weight_soil) * area * thickness\n",
    "    if self_weight > 0 :\n",
    "        return(self_weight)\n",
    "    else :\n",
    "        return(0)\n",
    "\n",
    "DataFrame[\"self_weight\"] = [self_weight(x,y) for (x,y) in zip(DataFrame[\"unit_weight\"],DataFrame[\"thickness\"])]\n",
    "print(DataFrame)"
   ]
  },
  {
   "cell_type": "code",
   "execution_count": 83,
   "metadata": {},
   "outputs": [
    {
     "name": "stdout",
     "output_type": "stream",
     "text": [
      "    top  bottom geology  spt  cu  unit_weight  thickness      q  self_weight  \\\n",
      "0   0.0     1.0    FILL    0   0           19        1.0    9.5        4.050   \n",
      "1   1.0     3.0    FILL    0   0           19        2.0   38.0        8.100   \n",
      "2   3.0    15.0       E    0  23           15       12.0  147.0       87.480   \n",
      "3  15.0    17.8       E    0  27           15        2.8  258.0       20.412   \n",
      "4  17.8    20.0       S   66   0           21        2.2  302.1        5.346   \n",
      "5  20.0    23.0       S  100   0           21        0.0  356.7        0.000   \n",
      "6  20.0    33.0       S  100   0           21        0.0  524.7        0.000   \n",
      "7  33.0    36.0       S  100   0           21        0.0  692.7        0.000   \n",
      "8  36.0    40.0       S  100   0           21        0.0  766.2        0.000   \n",
      "\n",
      "   alpha  \n",
      "0   0.00  \n",
      "1   0.00  \n",
      "2   1.00  \n",
      "3   0.98  \n",
      "4   0.00  \n",
      "5   0.00  \n",
      "6   0.00  \n",
      "7   0.00  \n",
      "8   0.00  \n"
     ]
    }
   ],
   "source": [
    "def alpha(geology,cu):\n",
    "    if geology != \"E\":\n",
    "        return(0)\n",
    "    if piletype == \"bored\":\n",
    "        alpha = 0.27 + 0.22/(cu/101.325)\n",
    "        if alpha <= 1:\n",
    "            return(alpha)\n",
    "        else:\n",
    "            return(1)\n",
    "    elif piletype == \"driven\": \n",
    "        if cu <= 25:\n",
    "            return(1)\n",
    "        elif cu <= 75:\n",
    "            return(1 - 0.5*(cu-25)/50)\n",
    "        else:\n",
    "            return (0.5)\n",
    "        \n",
    "DataFrame[\"alpha\"] = [alpha(x,y) for (x,y) in zip(DataFrame[\"geology\"],DataFrame[\"cu\"])]\n",
    "print(DataFrame)"
   ]
  },
  {
   "cell_type": "code",
   "execution_count": 84,
   "metadata": {},
   "outputs": [
    {
     "name": "stdout",
     "output_type": "stream",
     "text": [
      "    top  bottom geology  spt  cu  unit_weight  thickness      q  self_weight  \\\n",
      "0   0.0     1.0    FILL    0   0           19        1.0    9.5        4.050   \n",
      "1   1.0     3.0    FILL    0   0           19        2.0   38.0        8.100   \n",
      "2   3.0    15.0       E    0  23           15       12.0  147.0       87.480   \n",
      "3  15.0    17.8       E    0  27           15        2.8  258.0       20.412   \n",
      "4  17.8    20.0       S   66   0           21        2.2  302.1        5.346   \n",
      "5  20.0    23.0       S  100   0           21        0.0  356.7        0.000   \n",
      "6  20.0    33.0       S  100   0           21        0.0  524.7        0.000   \n",
      "7  33.0    36.0       S  100   0           21        0.0  692.7        0.000   \n",
      "8  36.0    40.0       S  100   0           21        0.0  766.2        0.000   \n",
      "\n",
      "   alpha  qs_cal  \n",
      "0   0.00    0.00  \n",
      "1   0.00    0.00  \n",
      "2   1.00   23.00  \n",
      "3   0.98   26.46  \n",
      "4   0.00  132.00  \n",
      "5   0.00  200.00  \n",
      "6   0.00  200.00  \n",
      "7   0.00  200.00  \n",
      "8   0.00  200.00  \n"
     ]
    }
   ],
   "source": [
    "def qs_cal(geology,spt,cu,alpha):\n",
    "    if geology == \"E\":\n",
    "        return(alpha*cu)\n",
    "    elif geology == \"S\" or \"FILL\":\n",
    "        if piletype == \"bored\":\n",
    "            return(spt)\n",
    "        elif piletype == \"driven\":\n",
    "            return(2*spt)\n",
    "        \n",
    "DataFrame[\"qs_cal\"] = [qs_cal(geology,spt,cu,alpha) for (geology,spt,cu,alpha) \n",
    "                       in zip(DataFrame[\"geology\"],DataFrame[\"spt\"],DataFrame[\"cu\"],DataFrame[\"alpha\"])]        \n",
    "        \n",
    "print(DataFrame)\n",
    "        "
   ]
  },
  {
   "cell_type": "code",
   "execution_count": 85,
   "metadata": {
    "scrolled": true
   },
   "outputs": [
    {
     "name": "stdout",
     "output_type": "stream",
     "text": [
      "    top  bottom geology  spt  cu  unit_weight  thickness      q  self_weight  \\\n",
      "0   0.0     1.0    FILL    0   0           19        1.0    9.5        4.050   \n",
      "1   1.0     3.0    FILL    0   0           19        2.0   38.0        8.100   \n",
      "2   3.0    15.0       E    0  23           15       12.0  147.0       87.480   \n",
      "3  15.0    17.8       E    0  27           15        2.8  258.0       20.412   \n",
      "4  17.8    20.0       S   66   0           21        2.2  302.1        5.346   \n",
      "5  20.0    23.0       S  100   0           21        0.0  356.7        0.000   \n",
      "6  20.0    33.0       S  100   0           21        0.0  524.7        0.000   \n",
      "7  33.0    36.0       S  100   0           21        0.0  692.7        0.000   \n",
      "8  36.0    40.0       S  100   0           21        0.0  766.2        0.000   \n",
      "\n",
      "   alpha  qs_cal     rs_k  \n",
      "0   0.00    0.00    0.000  \n",
      "1   0.00    0.00    0.000  \n",
      "2   1.00   23.00  736.000  \n",
      "3   0.98   26.46  197.568  \n",
      "4   0.00  132.00  774.400  \n",
      "5   0.00  200.00    0.000  \n",
      "6   0.00  200.00    0.000  \n",
      "7   0.00  200.00    0.000  \n",
      "8   0.00  200.00    0.000  \n"
     ]
    }
   ],
   "source": [
    "def rs_k(thickness,qs_cal):\n",
    "    return(qs_cal*perimeter*thickness/mf)\n",
    "DataFrame[\"rs_k\"] = [rs_k(thickness,qs_cal) for (thickness,qs_cal) in zip(DataFrame[\"thickness\"],DataFrame[\"qs_cal\"])]\n",
    "print(DataFrame)"
   ]
  },
  {
   "cell_type": "code",
   "execution_count": 86,
   "metadata": {},
   "outputs": [
    {
     "name": "stdout",
     "output_type": "stream",
     "text": [
      "    top  bottom geology  spt  cu  unit_weight  thickness      q  self_weight  \\\n",
      "0   0.0     1.0    FILL    0   0           19        1.0    9.5        4.050   \n",
      "1   1.0     3.0    FILL    0   0           19        2.0   38.0        8.100   \n",
      "2   3.0    15.0       E    0  23           15       12.0  147.0       87.480   \n",
      "3  15.0    17.8       E    0  27           15        2.8  258.0       20.412   \n",
      "4  17.8    20.0       S   66   0           21        2.2  302.1        5.346   \n",
      "5  20.0    23.0       S  100   0           21        0.0  356.7        0.000   \n",
      "6  20.0    33.0       S  100   0           21        0.0  524.7        0.000   \n",
      "7  33.0    36.0       S  100   0           21        0.0  692.7        0.000   \n",
      "8  36.0    40.0       S  100   0           21        0.0  766.2        0.000   \n",
      "\n",
      "   alpha  qs_cal     rs_k  qb_cal  \n",
      "0   0.00    0.00    0.000     0.0  \n",
      "1   0.00    0.00    0.000     0.0  \n",
      "2   1.00   23.00  736.000   354.0  \n",
      "3   0.98   26.46  197.568   501.0  \n",
      "4   0.00  132.00  774.400  2640.0  \n",
      "5   0.00  200.00    0.000  4000.0  \n",
      "6   0.00  200.00    0.000  4000.0  \n",
      "7   0.00  200.00    0.000  4000.0  \n",
      "8   0.00  200.00    0.000  4000.0  \n"
     ]
    }
   ],
   "source": [
    "def qb_cal(geology,spt,cu,q):\n",
    "    if geology == \"E\":\n",
    "        return(9*cu+q)\n",
    "    elif geology == \"S\" or \"FILL\":\n",
    "        if piletype == \"driven\":\n",
    "            return(40*spt)\n",
    "        elif piletype == \"bored\":\n",
    "            return(40/3*spt)\n",
    "DataFrame[\"qb_cal\"] = [qb_cal(geology,spt,cu,q) for (geology,spt,cu,q) \n",
    "                     in zip(DataFrame[\"geology\"],DataFrame[\"spt\"],DataFrame[\"cu\"],DataFrame[\"q\"])]\n",
    "print(DataFrame)"
   ]
  },
  {
   "cell_type": "code",
   "execution_count": 87,
   "metadata": {},
   "outputs": [
    {
     "name": "stdout",
     "output_type": "stream",
     "text": [
      "    top  bottom geology  spt  cu  unit_weight  thickness      q  self_weight  \\\n",
      "0   0.0     1.0    FILL    0   0           19        1.0    9.5        4.050   \n",
      "1   1.0     3.0    FILL    0   0           19        2.0   38.0        8.100   \n",
      "2   3.0    15.0       E    0  23           15       12.0  147.0       87.480   \n",
      "3  15.0    17.8       E    0  27           15        2.8  258.0       20.412   \n",
      "4  17.8    20.0       S   66   0           21        2.2  302.1        5.346   \n",
      "5  20.0    23.0       S  100   0           21        0.0  356.7        0.000   \n",
      "6  20.0    33.0       S  100   0           21        0.0  524.7        0.000   \n",
      "7  33.0    36.0       S  100   0           21        0.0  692.7        0.000   \n",
      "8  36.0    40.0       S  100   0           21        0.0  766.2        0.000   \n",
      "\n",
      "   alpha  qs_cal     rs_k  qb_cal    rb_k  \n",
      "0   0.00    0.00    0.000     0.0     0.0  \n",
      "1   0.00    0.00    0.000     0.0     0.0  \n",
      "2   1.00   23.00  736.000   354.0     0.0  \n",
      "3   0.98   26.46  197.568   501.0     0.0  \n",
      "4   0.00  132.00  774.400  2640.0  1584.0  \n",
      "5   0.00  200.00    0.000  4000.0     0.0  \n",
      "6   0.00  200.00    0.000  4000.0     0.0  \n",
      "7   0.00  200.00    0.000  4000.0     0.0  \n",
      "8   0.00  200.00    0.000  4000.0     0.0  \n"
     ]
    }
   ],
   "source": [
    "#rb_k = rb_cal / mf = qb_cal * base area /mf\n",
    "def rb_k(depth,top,bottom,qb_cal):\n",
    "    if top < depth <= bottom:\n",
    "        return(qb_cal*area/mf)\n",
    "    else:\n",
    "        return(0)\n",
    "\n",
    "DataFrame[\"rb_k\"] = [rb_k(depth,top,bottom,qb_cal) for (top,bottom,qb_cal) \n",
    "                     in zip(DataFrame[\"top\"],DataFrame[\"bottom\"],DataFrame[\"qb_cal\"])]\n",
    "print(DataFrame)"
   ]
  },
  {
   "cell_type": "code",
   "execution_count": 88,
   "metadata": {},
   "outputs": [
    {
     "name": "stdout",
     "output_type": "stream",
     "text": [
      "True\n",
      "True\n"
     ]
    }
   ],
   "source": [
    "def da1c1(rs_k,rb_k,self_weight):\n",
    "    if 1.35*(gk+self_weight) + 1.5*qk <= 1.0*rs_k + 1.0*rb_k:\n",
    "        return True\n",
    "    else:\n",
    "        return False\n",
    "\n",
    "def da1c2(rs_k,rb_k,self_weight):\n",
    "    if piletype == \"driven\":\n",
    "        if not slsverified:\n",
    "            if 1.0*(gk+self_weight) + 1.0*qk <= rb_k/1.7 + rs_k/1.5:\n",
    "                return True\n",
    "            else:\n",
    "                return False\n",
    "        elif slsverified:\n",
    "            if 1.0*(gk+self_weight) + 1.0*rk <= rb_k/1.5 + rs_k/1.3:\n",
    "                return True\n",
    "            else:\n",
    "                return False\n",
    "        \n",
    "    if piletype == \"bored\":\n",
    "        if not slsverified:\n",
    "            if 1.0*(gk+self_weight) + 1.0*qk <= rb_k/2.0 + rs_k/1.6:\n",
    "                return True\n",
    "            else:\n",
    "                return False\n",
    "        elif slsverified:\n",
    "            if 1.0*(gk+self_weight) + 1.0*rk <= rb_k/1.7 + rs_k/1.4 :\n",
    "                return True\n",
    "            else:\n",
    "                return False\n",
    "        \n",
    "\n",
    "self_weight_t = DataFrame[\"self_weight\"].sum()        \n",
    "rs_kt = DataFrame[\"rs_k\"].sum()\n",
    "rb_kt = DataFrame[\"rb_k\"].sum()\n",
    "\n",
    "print(da1c1(rs_kt,rb_kt,self_weight_t))\n",
    "print(da1c2(rs_kt,rb_kt,self_weight_t))"
   ]
  },
  {
   "cell_type": "code",
   "execution_count": 89,
   "metadata": {},
   "outputs": [
    {
     "name": "stdout",
     "output_type": "stream",
     "text": [
      "18.6\n"
     ]
    }
   ],
   "source": [
    "def runtable():    \n",
    "    for i in range(1,int(float(DataFrame[\"bottom\"].tail(1))//0.1)):\n",
    "        depth = i/10\n",
    "    \n",
    "        DataFrame[\"unit_weight\"] = [unit_weight[x] for x in DataFrame[\"geology\"]]\n",
    "        DataFrame[\"thickness\"] = [thickness(depth,x,y) for (x,y) in zip(DataFrame[\"top\"],DataFrame[\"bottom\"])]\n",
    "        q_increment = DataFrame[\"unit_weight\"]*(DataFrame[\"bottom\"]-DataFrame[\"top\"])\n",
    "        DataFrame[\"q\"] = q_increment.cumsum() - q_increment/2\n",
    "        DataFrame[\"self_weight\"] = [self_weight(x,y) for (x,y) in zip(DataFrame[\"unit_weight\"],DataFrame[\"thickness\"])]\n",
    "        DataFrame[\"alpha\"] = [alpha(x,y) for (x,y) in zip(DataFrame[\"geology\"],DataFrame[\"cu\"])]\n",
    "        DataFrame[\"qs_cal\"] = [qs_cal(geology,spt,cu,alpha) for (geology,spt,cu,alpha) \n",
    "                       in zip(DataFrame[\"geology\"],DataFrame[\"spt\"],DataFrame[\"cu\"],DataFrame[\"alpha\"])]   \n",
    "        DataFrame[\"rs_k\"] = [rs_k(thickness,qs_cal) for (thickness,qs_cal) in zip(DataFrame[\"thickness\"],DataFrame[\"qs_cal\"])]\n",
    "        DataFrame[\"qb_cal\"] = [qb_cal(geology,spt,cu,q) for (geology,spt,cu,q) \n",
    "                     in zip(DataFrame[\"geology\"],DataFrame[\"spt\"],DataFrame[\"cu\"],DataFrame[\"q\"])]\n",
    "        DataFrame[\"rb_k\"] = [rb_k(depth,top,bottom,qb_cal) for (top,bottom,qb_cal) \n",
    "                     in zip(DataFrame[\"top\"],DataFrame[\"bottom\"],DataFrame[\"qb_cal\"])]\n",
    "    \n",
    "        self_weight_t = DataFrame[\"self_weight\"].sum()        \n",
    "        rs_kt = DataFrame[\"rs_k\"].sum()\n",
    "        rb_kt = DataFrame[\"rb_k\"].sum()\n",
    "    \n",
    "        if da1c1(rs_kt,rb_kt,self_weight_t) and da1c2(rs_kt,rb_kt,self_weight_t):\n",
    "            #print(depth)\n",
    "            return(depth)\n",
    "            break\n",
    "print(runtable())"
   ]
  },
  {
   "cell_type": "code",
   "execution_count": 90,
   "metadata": {},
   "outputs": [
    {
     "name": "stdout",
     "output_type": "stream",
     "text": [
      "    top  bottom geology  spt  cu  unit_weight  thickness      q  self_weight  \\\n",
      "0   0.0     1.0    FILL    0   0           19        1.0    9.5        4.050   \n",
      "1   1.0     3.0    FILL    0   0           19        2.0   38.0        8.100   \n",
      "2   3.0    15.0       E    0  23           15       12.0  147.0       87.480   \n",
      "3  15.0    17.8       E    0  27           15        2.8  258.0       20.412   \n",
      "4  17.8    20.0       S   66   0           21        0.8  302.1        1.944   \n",
      "5  20.0    23.0       S  100   0           21        0.0  356.7        0.000   \n",
      "6  20.0    33.0       S  100   0           21        0.0  524.7        0.000   \n",
      "7  33.0    36.0       S  100   0           21        0.0  692.7        0.000   \n",
      "8  36.0    40.0       S  100   0           21        0.0  766.2        0.000   \n",
      "\n",
      "   alpha  qs_cal     rs_k  qb_cal    rb_k  \n",
      "0   0.00    0.00    0.000     0.0     0.0  \n",
      "1   0.00    0.00    0.000     0.0     0.0  \n",
      "2   1.00   23.00  736.000   354.0     0.0  \n",
      "3   0.98   26.46  197.568   501.0     0.0  \n",
      "4   0.00  132.00  281.600  2640.0  1584.0  \n",
      "5   0.00  200.00    0.000  4000.0     0.0  \n",
      "6   0.00  200.00    0.000  4000.0     0.0  \n",
      "7   0.00  200.00    0.000  4000.0     0.0  \n",
      "8   0.00  200.00    0.000  4000.0     0.0  \n"
     ]
    }
   ],
   "source": [
    "print(DataFrame)"
   ]
  },
  {
   "cell_type": "code",
   "execution_count": null,
   "metadata": {},
   "outputs": [],
   "source": []
  },
  {
   "cell_type": "code",
   "execution_count": 92,
   "metadata": {},
   "outputs": [
    {
     "name": "stdout",
     "output_type": "stream",
     "text": [
      "  location    type nos_pile1  length_pile1 nos_pile2  length_pile2   time  \\\n",
      "0        A  driven         2          20.1         2          20.1  134.0   \n",
      "\n",
      "         cost  \n",
      "0  13024800.0  \n"
     ]
    }
   ],
   "source": [
    "quantity = pd.read_csv(\"quantity.csv\")\n",
    "quantity_info = quantity[quantity[\"nospile\"]==nospile]\n",
    "df_out = pd.DataFrame(columns=['location','type','nos_pile1','length_pile1','nos_pile2','length_pile2','time','cost'])\n",
    "new_dict = {}\n",
    "new_dict['location'] = location\n",
    "new_dict['type'] = piletype\n",
    "new_dict['nos_pile1'] = int(quantity_info[\"nos1\"])\n",
    "gk = float(quantity_info[\"gk1\"])\n",
    "qk = float(quantity_info[\"gk1\"])\n",
    "new_dict['length_pile1']=runtable()\n",
    "new_dict['nos_pile2'] = int(quantity_info[\"nos2\"])\n",
    "gk = float(quantity_info[\"gk2\"])\n",
    "qk = float(quantity_info[\"gk2\"])\n",
    "new_dict['length_pile2']=runtable()\n",
    "total_length = new_dict['nos_pile1']*new_dict['length_pile1']+new_dict['nos_pile2']*new_dict['length_pile2']\n",
    "total_volume = total_length * area\n",
    "if piletype == \"driven\":\n",
    "    new_dict['time'] = total_length // 0.6\n",
    "    new_dict['cost'] = round(total_volume * 200000,2)\n",
    "elif piletype == \"bored\":\n",
    "    new_dict['time'] = total_length // 1.2\n",
    "    new_dict['cost'] = round(total_volume * 300000,2)\n",
    "df_out = df_out.append(new_dict,ignore_index = True)\n",
    "print(df_out)"
   ]
  },
  {
   "cell_type": "code",
   "execution_count": null,
   "metadata": {},
   "outputs": [],
   "source": []
  }
 ],
 "metadata": {
  "kernelspec": {
   "display_name": "Python 3",
   "language": "python",
   "name": "python3"
  },
  "language_info": {
   "codemirror_mode": {
    "name": "ipython",
    "version": 3
   },
   "file_extension": ".py",
   "mimetype": "text/x-python",
   "name": "python",
   "nbconvert_exporter": "python",
   "pygments_lexer": "ipython3",
   "version": "3.8.3"
  }
 },
 "nbformat": 4,
 "nbformat_minor": 4
}
